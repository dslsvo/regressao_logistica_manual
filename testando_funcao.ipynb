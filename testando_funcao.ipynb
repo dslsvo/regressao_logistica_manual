{
 "cells": [
  {
   "cell_type": "code",
   "execution_count": 6,
   "id": "bbea3256-f5b0-468c-91c7-5f4142b4a928",
   "metadata": {},
   "outputs": [],
   "source": [
    "df = pd.read_csv('Titanic-Dataset.csv')"
   ]
  },
  {
   "cell_type": "code",
   "execution_count": 1,
   "id": "c5e322f3-692e-4acd-b990-7e786e2c5c03",
   "metadata": {},
   "outputs": [],
   "source": [
    "import pandas as pd"
   ]
  },
  {
   "cell_type": "code",
   "execution_count": 7,
   "id": "b2b92e28-6acb-47f9-ad5a-69fd7fe057f1",
   "metadata": {},
   "outputs": [
    {
     "data": {
      "text/html": [
       "<div>\n",
       "<style scoped>\n",
       "    .dataframe tbody tr th:only-of-type {\n",
       "        vertical-align: middle;\n",
       "    }\n",
       "\n",
       "    .dataframe tbody tr th {\n",
       "        vertical-align: top;\n",
       "    }\n",
       "\n",
       "    .dataframe thead th {\n",
       "        text-align: right;\n",
       "    }\n",
       "</style>\n",
       "<table border=\"1\" class=\"dataframe\">\n",
       "  <thead>\n",
       "    <tr style=\"text-align: right;\">\n",
       "      <th></th>\n",
       "      <th>PassengerId</th>\n",
       "      <th>Survived</th>\n",
       "      <th>Pclass</th>\n",
       "      <th>Name</th>\n",
       "      <th>Sex</th>\n",
       "      <th>Age</th>\n",
       "      <th>SibSp</th>\n",
       "      <th>Parch</th>\n",
       "      <th>Ticket</th>\n",
       "      <th>Fare</th>\n",
       "      <th>Cabin</th>\n",
       "      <th>Embarked</th>\n",
       "    </tr>\n",
       "  </thead>\n",
       "  <tbody>\n",
       "    <tr>\n",
       "      <th>0</th>\n",
       "      <td>1</td>\n",
       "      <td>0</td>\n",
       "      <td>3</td>\n",
       "      <td>Braund, Mr. Owen Harris</td>\n",
       "      <td>male</td>\n",
       "      <td>22.0</td>\n",
       "      <td>1</td>\n",
       "      <td>0</td>\n",
       "      <td>A/5 21171</td>\n",
       "      <td>7.2500</td>\n",
       "      <td>NaN</td>\n",
       "      <td>S</td>\n",
       "    </tr>\n",
       "    <tr>\n",
       "      <th>1</th>\n",
       "      <td>2</td>\n",
       "      <td>1</td>\n",
       "      <td>1</td>\n",
       "      <td>Cumings, Mrs. John Bradley (Florence Briggs Th...</td>\n",
       "      <td>female</td>\n",
       "      <td>38.0</td>\n",
       "      <td>1</td>\n",
       "      <td>0</td>\n",
       "      <td>PC 17599</td>\n",
       "      <td>71.2833</td>\n",
       "      <td>C85</td>\n",
       "      <td>C</td>\n",
       "    </tr>\n",
       "    <tr>\n",
       "      <th>2</th>\n",
       "      <td>3</td>\n",
       "      <td>1</td>\n",
       "      <td>3</td>\n",
       "      <td>Heikkinen, Miss. Laina</td>\n",
       "      <td>female</td>\n",
       "      <td>26.0</td>\n",
       "      <td>0</td>\n",
       "      <td>0</td>\n",
       "      <td>STON/O2. 3101282</td>\n",
       "      <td>7.9250</td>\n",
       "      <td>NaN</td>\n",
       "      <td>S</td>\n",
       "    </tr>\n",
       "    <tr>\n",
       "      <th>3</th>\n",
       "      <td>4</td>\n",
       "      <td>1</td>\n",
       "      <td>1</td>\n",
       "      <td>Futrelle, Mrs. Jacques Heath (Lily May Peel)</td>\n",
       "      <td>female</td>\n",
       "      <td>35.0</td>\n",
       "      <td>1</td>\n",
       "      <td>0</td>\n",
       "      <td>113803</td>\n",
       "      <td>53.1000</td>\n",
       "      <td>C123</td>\n",
       "      <td>S</td>\n",
       "    </tr>\n",
       "    <tr>\n",
       "      <th>4</th>\n",
       "      <td>5</td>\n",
       "      <td>0</td>\n",
       "      <td>3</td>\n",
       "      <td>Allen, Mr. William Henry</td>\n",
       "      <td>male</td>\n",
       "      <td>35.0</td>\n",
       "      <td>0</td>\n",
       "      <td>0</td>\n",
       "      <td>373450</td>\n",
       "      <td>8.0500</td>\n",
       "      <td>NaN</td>\n",
       "      <td>S</td>\n",
       "    </tr>\n",
       "    <tr>\n",
       "      <th>...</th>\n",
       "      <td>...</td>\n",
       "      <td>...</td>\n",
       "      <td>...</td>\n",
       "      <td>...</td>\n",
       "      <td>...</td>\n",
       "      <td>...</td>\n",
       "      <td>...</td>\n",
       "      <td>...</td>\n",
       "      <td>...</td>\n",
       "      <td>...</td>\n",
       "      <td>...</td>\n",
       "      <td>...</td>\n",
       "    </tr>\n",
       "    <tr>\n",
       "      <th>886</th>\n",
       "      <td>887</td>\n",
       "      <td>0</td>\n",
       "      <td>2</td>\n",
       "      <td>Montvila, Rev. Juozas</td>\n",
       "      <td>male</td>\n",
       "      <td>27.0</td>\n",
       "      <td>0</td>\n",
       "      <td>0</td>\n",
       "      <td>211536</td>\n",
       "      <td>13.0000</td>\n",
       "      <td>NaN</td>\n",
       "      <td>S</td>\n",
       "    </tr>\n",
       "    <tr>\n",
       "      <th>887</th>\n",
       "      <td>888</td>\n",
       "      <td>1</td>\n",
       "      <td>1</td>\n",
       "      <td>Graham, Miss. Margaret Edith</td>\n",
       "      <td>female</td>\n",
       "      <td>19.0</td>\n",
       "      <td>0</td>\n",
       "      <td>0</td>\n",
       "      <td>112053</td>\n",
       "      <td>30.0000</td>\n",
       "      <td>B42</td>\n",
       "      <td>S</td>\n",
       "    </tr>\n",
       "    <tr>\n",
       "      <th>888</th>\n",
       "      <td>889</td>\n",
       "      <td>0</td>\n",
       "      <td>3</td>\n",
       "      <td>Johnston, Miss. Catherine Helen \"Carrie\"</td>\n",
       "      <td>female</td>\n",
       "      <td>NaN</td>\n",
       "      <td>1</td>\n",
       "      <td>2</td>\n",
       "      <td>W./C. 6607</td>\n",
       "      <td>23.4500</td>\n",
       "      <td>NaN</td>\n",
       "      <td>S</td>\n",
       "    </tr>\n",
       "    <tr>\n",
       "      <th>889</th>\n",
       "      <td>890</td>\n",
       "      <td>1</td>\n",
       "      <td>1</td>\n",
       "      <td>Behr, Mr. Karl Howell</td>\n",
       "      <td>male</td>\n",
       "      <td>26.0</td>\n",
       "      <td>0</td>\n",
       "      <td>0</td>\n",
       "      <td>111369</td>\n",
       "      <td>30.0000</td>\n",
       "      <td>C148</td>\n",
       "      <td>C</td>\n",
       "    </tr>\n",
       "    <tr>\n",
       "      <th>890</th>\n",
       "      <td>891</td>\n",
       "      <td>0</td>\n",
       "      <td>3</td>\n",
       "      <td>Dooley, Mr. Patrick</td>\n",
       "      <td>male</td>\n",
       "      <td>32.0</td>\n",
       "      <td>0</td>\n",
       "      <td>0</td>\n",
       "      <td>370376</td>\n",
       "      <td>7.7500</td>\n",
       "      <td>NaN</td>\n",
       "      <td>Q</td>\n",
       "    </tr>\n",
       "  </tbody>\n",
       "</table>\n",
       "<p>891 rows × 12 columns</p>\n",
       "</div>"
      ],
      "text/plain": [
       "     PassengerId  Survived  Pclass  \\\n",
       "0              1         0       3   \n",
       "1              2         1       1   \n",
       "2              3         1       3   \n",
       "3              4         1       1   \n",
       "4              5         0       3   \n",
       "..           ...       ...     ...   \n",
       "886          887         0       2   \n",
       "887          888         1       1   \n",
       "888          889         0       3   \n",
       "889          890         1       1   \n",
       "890          891         0       3   \n",
       "\n",
       "                                                  Name     Sex   Age  SibSp  \\\n",
       "0                              Braund, Mr. Owen Harris    male  22.0      1   \n",
       "1    Cumings, Mrs. John Bradley (Florence Briggs Th...  female  38.0      1   \n",
       "2                               Heikkinen, Miss. Laina  female  26.0      0   \n",
       "3         Futrelle, Mrs. Jacques Heath (Lily May Peel)  female  35.0      1   \n",
       "4                             Allen, Mr. William Henry    male  35.0      0   \n",
       "..                                                 ...     ...   ...    ...   \n",
       "886                              Montvila, Rev. Juozas    male  27.0      0   \n",
       "887                       Graham, Miss. Margaret Edith  female  19.0      0   \n",
       "888           Johnston, Miss. Catherine Helen \"Carrie\"  female   NaN      1   \n",
       "889                              Behr, Mr. Karl Howell    male  26.0      0   \n",
       "890                                Dooley, Mr. Patrick    male  32.0      0   \n",
       "\n",
       "     Parch            Ticket     Fare Cabin Embarked  \n",
       "0        0         A/5 21171   7.2500   NaN        S  \n",
       "1        0          PC 17599  71.2833   C85        C  \n",
       "2        0  STON/O2. 3101282   7.9250   NaN        S  \n",
       "3        0            113803  53.1000  C123        S  \n",
       "4        0            373450   8.0500   NaN        S  \n",
       "..     ...               ...      ...   ...      ...  \n",
       "886      0            211536  13.0000   NaN        S  \n",
       "887      0            112053  30.0000   B42        S  \n",
       "888      2        W./C. 6607  23.4500   NaN        S  \n",
       "889      0            111369  30.0000  C148        C  \n",
       "890      0            370376   7.7500   NaN        Q  \n",
       "\n",
       "[891 rows x 12 columns]"
      ]
     },
     "execution_count": 7,
     "metadata": {},
     "output_type": "execute_result"
    }
   ],
   "source": [
    "df"
   ]
  },
  {
   "cell_type": "code",
   "execution_count": 13,
   "id": "c328736e-2dfd-4adb-abc9-fc93a88bc13b",
   "metadata": {},
   "outputs": [],
   "source": [
    "from fun_reglog import RegressaoLogistica"
   ]
  },
  {
   "cell_type": "code",
   "execution_count": 3,
   "id": "e920abc6-c267-4712-a1c4-83dd6b7c805b",
   "metadata": {},
   "outputs": [],
   "source": [
    "from sklearn.model_selection import train_test_split\n",
    "from sklearn.preprocessing import StandardScaler\n",
    "from sklearn.datasets import make_classification"
   ]
  },
  {
   "cell_type": "code",
   "execution_count": 15,
   "id": "d24dc2eb-6cd7-434e-bed2-a3ee9d81b952",
   "metadata": {},
   "outputs": [],
   "source": [
    "X, y = make_classification(n_samples=1000, n_features=10, random_state=42)"
   ]
  },
  {
   "cell_type": "code",
   "execution_count": 18,
   "id": "4bdbd21b-f0cd-45c9-a6c3-34e45fb37296",
   "metadata": {},
   "outputs": [
    {
     "data": {
      "text/plain": [
       "Index(['PassengerId', 'Survived', 'Pclass', 'Name', 'Sex', 'Age', 'SibSp',\n",
       "       'Parch', 'Ticket', 'Fare', 'Cabin', 'Embarked'],\n",
       "      dtype='object')"
      ]
     },
     "execution_count": 18,
     "metadata": {},
     "output_type": "execute_result"
    }
   ],
   "source": [
    "df.columns"
   ]
  },
  {
   "cell_type": "code",
   "execution_count": 23,
   "id": "6965c3ab-d875-42b0-9164-3ca95c93b0e6",
   "metadata": {},
   "outputs": [],
   "source": [
    "X = df.drop(['Survived', 'PassengerId'], axis = 1)\n",
    "y = df['Survived']"
   ]
  },
  {
   "cell_type": "code",
   "execution_count": 26,
   "id": "88e463c7-e3bb-4da3-97a6-b7647d91d13a",
   "metadata": {},
   "outputs": [],
   "source": [
    "X_train, X_test, y_train, y_test = train_test_split(X, y, test_size=0.2, random_state=42)"
   ]
  },
  {
   "cell_type": "code",
   "execution_count": 27,
   "id": "4b0dd27d-548e-4652-b91d-13f7250b0e41",
   "metadata": {},
   "outputs": [
    {
     "data": {
      "text/html": [
       "<div>\n",
       "<style scoped>\n",
       "    .dataframe tbody tr th:only-of-type {\n",
       "        vertical-align: middle;\n",
       "    }\n",
       "\n",
       "    .dataframe tbody tr th {\n",
       "        vertical-align: top;\n",
       "    }\n",
       "\n",
       "    .dataframe thead th {\n",
       "        text-align: right;\n",
       "    }\n",
       "</style>\n",
       "<table border=\"1\" class=\"dataframe\">\n",
       "  <thead>\n",
       "    <tr style=\"text-align: right;\">\n",
       "      <th></th>\n",
       "      <th>Pclass</th>\n",
       "      <th>Name</th>\n",
       "      <th>Sex</th>\n",
       "      <th>Age</th>\n",
       "      <th>SibSp</th>\n",
       "      <th>Parch</th>\n",
       "      <th>Ticket</th>\n",
       "      <th>Fare</th>\n",
       "      <th>Cabin</th>\n",
       "      <th>Embarked</th>\n",
       "    </tr>\n",
       "  </thead>\n",
       "  <tbody>\n",
       "    <tr>\n",
       "      <th>331</th>\n",
       "      <td>1</td>\n",
       "      <td>Partner, Mr. Austen</td>\n",
       "      <td>male</td>\n",
       "      <td>45.5</td>\n",
       "      <td>0</td>\n",
       "      <td>0</td>\n",
       "      <td>113043</td>\n",
       "      <td>28.5000</td>\n",
       "      <td>C124</td>\n",
       "      <td>S</td>\n",
       "    </tr>\n",
       "    <tr>\n",
       "      <th>733</th>\n",
       "      <td>2</td>\n",
       "      <td>Berriman, Mr. William John</td>\n",
       "      <td>male</td>\n",
       "      <td>23.0</td>\n",
       "      <td>0</td>\n",
       "      <td>0</td>\n",
       "      <td>28425</td>\n",
       "      <td>13.0000</td>\n",
       "      <td>NaN</td>\n",
       "      <td>S</td>\n",
       "    </tr>\n",
       "    <tr>\n",
       "      <th>382</th>\n",
       "      <td>3</td>\n",
       "      <td>Tikkanen, Mr. Juho</td>\n",
       "      <td>male</td>\n",
       "      <td>32.0</td>\n",
       "      <td>0</td>\n",
       "      <td>0</td>\n",
       "      <td>STON/O 2. 3101293</td>\n",
       "      <td>7.9250</td>\n",
       "      <td>NaN</td>\n",
       "      <td>S</td>\n",
       "    </tr>\n",
       "    <tr>\n",
       "      <th>704</th>\n",
       "      <td>3</td>\n",
       "      <td>Hansen, Mr. Henrik Juul</td>\n",
       "      <td>male</td>\n",
       "      <td>26.0</td>\n",
       "      <td>1</td>\n",
       "      <td>0</td>\n",
       "      <td>350025</td>\n",
       "      <td>7.8542</td>\n",
       "      <td>NaN</td>\n",
       "      <td>S</td>\n",
       "    </tr>\n",
       "    <tr>\n",
       "      <th>813</th>\n",
       "      <td>3</td>\n",
       "      <td>Andersson, Miss. Ebba Iris Alfrida</td>\n",
       "      <td>female</td>\n",
       "      <td>6.0</td>\n",
       "      <td>4</td>\n",
       "      <td>2</td>\n",
       "      <td>347082</td>\n",
       "      <td>31.2750</td>\n",
       "      <td>NaN</td>\n",
       "      <td>S</td>\n",
       "    </tr>\n",
       "    <tr>\n",
       "      <th>...</th>\n",
       "      <td>...</td>\n",
       "      <td>...</td>\n",
       "      <td>...</td>\n",
       "      <td>...</td>\n",
       "      <td>...</td>\n",
       "      <td>...</td>\n",
       "      <td>...</td>\n",
       "      <td>...</td>\n",
       "      <td>...</td>\n",
       "      <td>...</td>\n",
       "    </tr>\n",
       "    <tr>\n",
       "      <th>106</th>\n",
       "      <td>3</td>\n",
       "      <td>Salkjelsvik, Miss. Anna Kristine</td>\n",
       "      <td>female</td>\n",
       "      <td>21.0</td>\n",
       "      <td>0</td>\n",
       "      <td>0</td>\n",
       "      <td>343120</td>\n",
       "      <td>7.6500</td>\n",
       "      <td>NaN</td>\n",
       "      <td>S</td>\n",
       "    </tr>\n",
       "    <tr>\n",
       "      <th>270</th>\n",
       "      <td>1</td>\n",
       "      <td>Cairns, Mr. Alexander</td>\n",
       "      <td>male</td>\n",
       "      <td>NaN</td>\n",
       "      <td>0</td>\n",
       "      <td>0</td>\n",
       "      <td>113798</td>\n",
       "      <td>31.0000</td>\n",
       "      <td>NaN</td>\n",
       "      <td>S</td>\n",
       "    </tr>\n",
       "    <tr>\n",
       "      <th>860</th>\n",
       "      <td>3</td>\n",
       "      <td>Hansen, Mr. Claus Peter</td>\n",
       "      <td>male</td>\n",
       "      <td>41.0</td>\n",
       "      <td>2</td>\n",
       "      <td>0</td>\n",
       "      <td>350026</td>\n",
       "      <td>14.1083</td>\n",
       "      <td>NaN</td>\n",
       "      <td>S</td>\n",
       "    </tr>\n",
       "    <tr>\n",
       "      <th>435</th>\n",
       "      <td>1</td>\n",
       "      <td>Carter, Miss. Lucile Polk</td>\n",
       "      <td>female</td>\n",
       "      <td>14.0</td>\n",
       "      <td>1</td>\n",
       "      <td>2</td>\n",
       "      <td>113760</td>\n",
       "      <td>120.0000</td>\n",
       "      <td>B96 B98</td>\n",
       "      <td>S</td>\n",
       "    </tr>\n",
       "    <tr>\n",
       "      <th>102</th>\n",
       "      <td>1</td>\n",
       "      <td>White, Mr. Richard Frasar</td>\n",
       "      <td>male</td>\n",
       "      <td>21.0</td>\n",
       "      <td>0</td>\n",
       "      <td>1</td>\n",
       "      <td>35281</td>\n",
       "      <td>77.2875</td>\n",
       "      <td>D26</td>\n",
       "      <td>S</td>\n",
       "    </tr>\n",
       "  </tbody>\n",
       "</table>\n",
       "<p>712 rows × 10 columns</p>\n",
       "</div>"
      ],
      "text/plain": [
       "     Pclass                                Name     Sex   Age  SibSp  Parch  \\\n",
       "331       1                 Partner, Mr. Austen    male  45.5      0      0   \n",
       "733       2          Berriman, Mr. William John    male  23.0      0      0   \n",
       "382       3                  Tikkanen, Mr. Juho    male  32.0      0      0   \n",
       "704       3             Hansen, Mr. Henrik Juul    male  26.0      1      0   \n",
       "813       3  Andersson, Miss. Ebba Iris Alfrida  female   6.0      4      2   \n",
       "..      ...                                 ...     ...   ...    ...    ...   \n",
       "106       3    Salkjelsvik, Miss. Anna Kristine  female  21.0      0      0   \n",
       "270       1               Cairns, Mr. Alexander    male   NaN      0      0   \n",
       "860       3             Hansen, Mr. Claus Peter    male  41.0      2      0   \n",
       "435       1           Carter, Miss. Lucile Polk  female  14.0      1      2   \n",
       "102       1           White, Mr. Richard Frasar    male  21.0      0      1   \n",
       "\n",
       "                Ticket      Fare    Cabin Embarked  \n",
       "331             113043   28.5000     C124        S  \n",
       "733              28425   13.0000      NaN        S  \n",
       "382  STON/O 2. 3101293    7.9250      NaN        S  \n",
       "704             350025    7.8542      NaN        S  \n",
       "813             347082   31.2750      NaN        S  \n",
       "..                 ...       ...      ...      ...  \n",
       "106             343120    7.6500      NaN        S  \n",
       "270             113798   31.0000      NaN        S  \n",
       "860             350026   14.1083      NaN        S  \n",
       "435             113760  120.0000  B96 B98        S  \n",
       "102              35281   77.2875      D26        S  \n",
       "\n",
       "[712 rows x 10 columns]"
      ]
     },
     "execution_count": 27,
     "metadata": {},
     "output_type": "execute_result"
    }
   ],
   "source": [
    "X_train"
   ]
  },
  {
   "cell_type": "code",
   "execution_count": 29,
   "id": "77f38f5d-9e93-4dd3-a32e-d38782bb86d7",
   "metadata": {},
   "outputs": [],
   "source": [
    "X, y = make_classification(n_samples=1000, n_features=10, random_state=42)\n",
    "X_train, X_test, y_train, y_test = train_test_split(X, y, test_size=0.2, random_state=42)"
   ]
  },
  {
   "cell_type": "code",
   "execution_count": 30,
   "id": "d48c479d-5bf8-42a9-b985-c076c945ffcc",
   "metadata": {},
   "outputs": [],
   "source": [
    "scaler = StandardScaler()\n",
    "X_train = scaler.fit_transform(X_train)\n",
    "X_test = scaler.transform(X_test)"
   ]
  },
  {
   "cell_type": "code",
   "execution_count": 32,
   "id": "7883673f-4d09-4608-b5bb-0649f87c5afa",
   "metadata": {},
   "outputs": [],
   "source": [
    "modelo = RegressaoLogistica()\n",
    "modelo.fit(X_train, y_train)"
   ]
  },
  {
   "cell_type": "code",
   "execution_count": 33,
   "id": "d60b2175-3092-4f92-a1a8-5f88f1421e96",
   "metadata": {},
   "outputs": [],
   "source": [
    "previsoes = modelo.predict(X_test)"
   ]
  },
  {
   "cell_type": "code",
   "execution_count": 38,
   "id": "6019b7ee-070f-42ff-887b-50ab00d55acd",
   "metadata": {},
   "outputs": [
    {
     "data": {
      "text/plain": [
       "array([0, 1, 1, 1, 0, 1, 0, 0, 0, 0, 0, 1, 1, 1, 1, 0, 1, 1, 1, 1, 0, 0,\n",
       "       1, 1, 0, 1, 1, 0, 0, 1, 1, 1, 0, 0, 1, 0, 1, 1, 1, 1, 0, 1, 0, 0,\n",
       "       0, 1, 1, 1, 1, 1, 0, 1, 1, 0, 1, 1, 1, 0, 1, 0, 1, 1, 0, 1, 1, 1,\n",
       "       1, 0, 1, 1, 0, 1, 1, 0, 1, 0, 1, 1, 1, 1, 1, 0, 1, 0, 1, 0, 0, 0,\n",
       "       0, 1, 1, 1, 0, 0, 1, 1, 0, 0, 1, 0, 1, 0, 1, 0, 0, 0, 0, 1, 1, 1,\n",
       "       0, 1, 1, 1, 1, 0, 1, 1, 0, 1, 1, 1, 0, 1, 1, 1, 1, 1, 1, 1, 1, 0,\n",
       "       1, 1, 1, 0, 0, 0, 0, 1, 0, 0, 0, 0, 0, 0, 1, 0, 0, 0, 1, 0, 0, 1,\n",
       "       0, 0, 1, 0, 0, 1, 0, 1, 0, 0, 0, 0, 1, 0, 1, 1, 0, 0, 0, 0, 1, 1,\n",
       "       0, 1, 1, 1, 1, 1, 1, 1, 0, 0, 0, 0, 0, 1, 1, 0, 1, 0, 1, 0, 0, 1,\n",
       "       1, 1])"
      ]
     },
     "execution_count": 38,
     "metadata": {},
     "output_type": "execute_result"
    }
   ],
   "source": [
    "y_test"
   ]
  },
  {
   "cell_type": "code",
   "execution_count": 34,
   "id": "3b4811c0-5d7d-4a89-b271-a4bd1d194a66",
   "metadata": {},
   "outputs": [
    {
     "data": {
      "text/plain": [
       "array([0, 1, 0, 1, 0, 1, 0, 0, 0, 0, 0, 1, 0, 1, 0, 0, 1, 1, 1, 1, 0, 0,\n",
       "       1, 0, 0, 1, 0, 0, 1, 1, 1, 1, 0, 0, 0, 0, 1, 1, 0, 1, 0, 1, 0, 0,\n",
       "       0, 0, 1, 1, 1, 1, 0, 1, 1, 0, 1, 0, 1, 0, 1, 0, 1, 0, 0, 1, 1, 1,\n",
       "       0, 0, 1, 1, 1, 1, 1, 0, 1, 0, 0, 1, 0, 1, 0, 0, 1, 0, 1, 0, 0, 0,\n",
       "       0, 1, 1, 1, 1, 1, 1, 1, 0, 0, 1, 0, 1, 0, 1, 0, 0, 1, 0, 1, 0, 1,\n",
       "       1, 1, 1, 1, 1, 0, 0, 1, 0, 0, 1, 1, 0, 1, 1, 1, 1, 1, 1, 1, 1, 0,\n",
       "       1, 1, 0, 1, 0, 0, 0, 1, 1, 0, 0, 0, 0, 0, 1, 0, 0, 0, 1, 0, 0, 0,\n",
       "       0, 0, 1, 0, 0, 1, 0, 1, 0, 0, 0, 0, 0, 0, 0, 1, 1, 0, 0, 0, 1, 1,\n",
       "       0, 0, 1, 1, 1, 1, 1, 1, 1, 0, 0, 0, 0, 1, 0, 0, 0, 0, 1, 0, 0, 1,\n",
       "       1, 1])"
      ]
     },
     "execution_count": 34,
     "metadata": {},
     "output_type": "execute_result"
    }
   ],
   "source": [
    "previsoes"
   ]
  },
  {
   "cell_type": "code",
   "execution_count": 36,
   "id": "87f8524a-31a6-4666-be74-4f3a790577ad",
   "metadata": {},
   "outputs": [
    {
     "name": "stdout",
     "output_type": "stream",
     "text": [
      "Acurácia do modelo: 0.83\n"
     ]
    }
   ],
   "source": [
    "accuracy = np.mean(previsoes == y_test)\n",
    "print(f'Acurácia do modelo: {accuracy:.2f}')"
   ]
  },
  {
   "cell_type": "code",
   "execution_count": null,
   "id": "a25063d9-7164-43a2-acc3-b4acbea115a2",
   "metadata": {},
   "outputs": [],
   "source": []
  },
  {
   "cell_type": "code",
   "execution_count": null,
   "id": "ebe4d1a6-837b-4d45-aba1-7697b1c4ccd6",
   "metadata": {},
   "outputs": [],
   "source": []
  },
  {
   "cell_type": "code",
   "execution_count": 39,
   "id": "7f8bebf7-dc67-4b40-93c8-1330f4721a3d",
   "metadata": {},
   "outputs": [],
   "source": [
    "# Teste com Titanic"
   ]
  },
  {
   "cell_type": "code",
   "execution_count": 4,
   "id": "414b2229-d61b-44c9-9378-0a16df9e3fe5",
   "metadata": {},
   "outputs": [],
   "source": [
    "url = \"https://raw.githubusercontent.com/datasciencedojo/datasets/master/titanic.csv\"\n",
    "df = pd.read_csv(url)"
   ]
  },
  {
   "cell_type": "code",
   "execution_count": 5,
   "id": "3686a57f-563c-4783-92fe-29923dd8b6b3",
   "metadata": {},
   "outputs": [
    {
     "data": {
      "text/html": [
       "<div>\n",
       "<style scoped>\n",
       "    .dataframe tbody tr th:only-of-type {\n",
       "        vertical-align: middle;\n",
       "    }\n",
       "\n",
       "    .dataframe tbody tr th {\n",
       "        vertical-align: top;\n",
       "    }\n",
       "\n",
       "    .dataframe thead th {\n",
       "        text-align: right;\n",
       "    }\n",
       "</style>\n",
       "<table border=\"1\" class=\"dataframe\">\n",
       "  <thead>\n",
       "    <tr style=\"text-align: right;\">\n",
       "      <th></th>\n",
       "      <th>PassengerId</th>\n",
       "      <th>Survived</th>\n",
       "      <th>Pclass</th>\n",
       "      <th>Name</th>\n",
       "      <th>Sex</th>\n",
       "      <th>Age</th>\n",
       "      <th>SibSp</th>\n",
       "      <th>Parch</th>\n",
       "      <th>Ticket</th>\n",
       "      <th>Fare</th>\n",
       "      <th>Cabin</th>\n",
       "      <th>Embarked</th>\n",
       "    </tr>\n",
       "  </thead>\n",
       "  <tbody>\n",
       "    <tr>\n",
       "      <th>0</th>\n",
       "      <td>1</td>\n",
       "      <td>0</td>\n",
       "      <td>3</td>\n",
       "      <td>Braund, Mr. Owen Harris</td>\n",
       "      <td>male</td>\n",
       "      <td>22.0</td>\n",
       "      <td>1</td>\n",
       "      <td>0</td>\n",
       "      <td>A/5 21171</td>\n",
       "      <td>7.2500</td>\n",
       "      <td>NaN</td>\n",
       "      <td>S</td>\n",
       "    </tr>\n",
       "    <tr>\n",
       "      <th>1</th>\n",
       "      <td>2</td>\n",
       "      <td>1</td>\n",
       "      <td>1</td>\n",
       "      <td>Cumings, Mrs. John Bradley (Florence Briggs Th...</td>\n",
       "      <td>female</td>\n",
       "      <td>38.0</td>\n",
       "      <td>1</td>\n",
       "      <td>0</td>\n",
       "      <td>PC 17599</td>\n",
       "      <td>71.2833</td>\n",
       "      <td>C85</td>\n",
       "      <td>C</td>\n",
       "    </tr>\n",
       "    <tr>\n",
       "      <th>2</th>\n",
       "      <td>3</td>\n",
       "      <td>1</td>\n",
       "      <td>3</td>\n",
       "      <td>Heikkinen, Miss. Laina</td>\n",
       "      <td>female</td>\n",
       "      <td>26.0</td>\n",
       "      <td>0</td>\n",
       "      <td>0</td>\n",
       "      <td>STON/O2. 3101282</td>\n",
       "      <td>7.9250</td>\n",
       "      <td>NaN</td>\n",
       "      <td>S</td>\n",
       "    </tr>\n",
       "    <tr>\n",
       "      <th>3</th>\n",
       "      <td>4</td>\n",
       "      <td>1</td>\n",
       "      <td>1</td>\n",
       "      <td>Futrelle, Mrs. Jacques Heath (Lily May Peel)</td>\n",
       "      <td>female</td>\n",
       "      <td>35.0</td>\n",
       "      <td>1</td>\n",
       "      <td>0</td>\n",
       "      <td>113803</td>\n",
       "      <td>53.1000</td>\n",
       "      <td>C123</td>\n",
       "      <td>S</td>\n",
       "    </tr>\n",
       "    <tr>\n",
       "      <th>4</th>\n",
       "      <td>5</td>\n",
       "      <td>0</td>\n",
       "      <td>3</td>\n",
       "      <td>Allen, Mr. William Henry</td>\n",
       "      <td>male</td>\n",
       "      <td>35.0</td>\n",
       "      <td>0</td>\n",
       "      <td>0</td>\n",
       "      <td>373450</td>\n",
       "      <td>8.0500</td>\n",
       "      <td>NaN</td>\n",
       "      <td>S</td>\n",
       "    </tr>\n",
       "  </tbody>\n",
       "</table>\n",
       "</div>"
      ],
      "text/plain": [
       "   PassengerId  Survived  Pclass  \\\n",
       "0            1         0       3   \n",
       "1            2         1       1   \n",
       "2            3         1       3   \n",
       "3            4         1       1   \n",
       "4            5         0       3   \n",
       "\n",
       "                                                Name     Sex   Age  SibSp  \\\n",
       "0                            Braund, Mr. Owen Harris    male  22.0      1   \n",
       "1  Cumings, Mrs. John Bradley (Florence Briggs Th...  female  38.0      1   \n",
       "2                             Heikkinen, Miss. Laina  female  26.0      0   \n",
       "3       Futrelle, Mrs. Jacques Heath (Lily May Peel)  female  35.0      1   \n",
       "4                           Allen, Mr. William Henry    male  35.0      0   \n",
       "\n",
       "   Parch            Ticket     Fare Cabin Embarked  \n",
       "0      0         A/5 21171   7.2500   NaN        S  \n",
       "1      0          PC 17599  71.2833   C85        C  \n",
       "2      0  STON/O2. 3101282   7.9250   NaN        S  \n",
       "3      0            113803  53.1000  C123        S  \n",
       "4      0            373450   8.0500   NaN        S  "
      ]
     },
     "execution_count": 5,
     "metadata": {},
     "output_type": "execute_result"
    }
   ],
   "source": [
    "df.head()"
   ]
  },
  {
   "cell_type": "code",
   "execution_count": 6,
   "id": "d6747955-119c-430d-be1c-5cd35aa53024",
   "metadata": {},
   "outputs": [],
   "source": [
    "# Selecionando colunas relevantes e tratando valores faltantes\n",
    "df = df[['Survived', 'Pclass', 'Sex', 'Age', 'SibSp', 'Parch', 'Fare']]\n",
    "df.dropna(inplace=True)\n",
    "df['Sex'] = df['Sex'].map({'male': 0, 'female': 1})  # Convertendo sexo para numérico"
   ]
  },
  {
   "cell_type": "code",
   "execution_count": 7,
   "id": "b8d46db9-2c0d-467b-b801-d4b59a8aba53",
   "metadata": {},
   "outputs": [
    {
     "data": {
      "text/html": [
       "<div>\n",
       "<style scoped>\n",
       "    .dataframe tbody tr th:only-of-type {\n",
       "        vertical-align: middle;\n",
       "    }\n",
       "\n",
       "    .dataframe tbody tr th {\n",
       "        vertical-align: top;\n",
       "    }\n",
       "\n",
       "    .dataframe thead th {\n",
       "        text-align: right;\n",
       "    }\n",
       "</style>\n",
       "<table border=\"1\" class=\"dataframe\">\n",
       "  <thead>\n",
       "    <tr style=\"text-align: right;\">\n",
       "      <th></th>\n",
       "      <th>Survived</th>\n",
       "      <th>Pclass</th>\n",
       "      <th>Sex</th>\n",
       "      <th>Age</th>\n",
       "      <th>SibSp</th>\n",
       "      <th>Parch</th>\n",
       "      <th>Fare</th>\n",
       "    </tr>\n",
       "  </thead>\n",
       "  <tbody>\n",
       "    <tr>\n",
       "      <th>0</th>\n",
       "      <td>0</td>\n",
       "      <td>3</td>\n",
       "      <td>0</td>\n",
       "      <td>22.0</td>\n",
       "      <td>1</td>\n",
       "      <td>0</td>\n",
       "      <td>7.2500</td>\n",
       "    </tr>\n",
       "    <tr>\n",
       "      <th>1</th>\n",
       "      <td>1</td>\n",
       "      <td>1</td>\n",
       "      <td>1</td>\n",
       "      <td>38.0</td>\n",
       "      <td>1</td>\n",
       "      <td>0</td>\n",
       "      <td>71.2833</td>\n",
       "    </tr>\n",
       "    <tr>\n",
       "      <th>2</th>\n",
       "      <td>1</td>\n",
       "      <td>3</td>\n",
       "      <td>1</td>\n",
       "      <td>26.0</td>\n",
       "      <td>0</td>\n",
       "      <td>0</td>\n",
       "      <td>7.9250</td>\n",
       "    </tr>\n",
       "    <tr>\n",
       "      <th>3</th>\n",
       "      <td>1</td>\n",
       "      <td>1</td>\n",
       "      <td>1</td>\n",
       "      <td>35.0</td>\n",
       "      <td>1</td>\n",
       "      <td>0</td>\n",
       "      <td>53.1000</td>\n",
       "    </tr>\n",
       "    <tr>\n",
       "      <th>4</th>\n",
       "      <td>0</td>\n",
       "      <td>3</td>\n",
       "      <td>0</td>\n",
       "      <td>35.0</td>\n",
       "      <td>0</td>\n",
       "      <td>0</td>\n",
       "      <td>8.0500</td>\n",
       "    </tr>\n",
       "    <tr>\n",
       "      <th>...</th>\n",
       "      <td>...</td>\n",
       "      <td>...</td>\n",
       "      <td>...</td>\n",
       "      <td>...</td>\n",
       "      <td>...</td>\n",
       "      <td>...</td>\n",
       "      <td>...</td>\n",
       "    </tr>\n",
       "    <tr>\n",
       "      <th>885</th>\n",
       "      <td>0</td>\n",
       "      <td>3</td>\n",
       "      <td>1</td>\n",
       "      <td>39.0</td>\n",
       "      <td>0</td>\n",
       "      <td>5</td>\n",
       "      <td>29.1250</td>\n",
       "    </tr>\n",
       "    <tr>\n",
       "      <th>886</th>\n",
       "      <td>0</td>\n",
       "      <td>2</td>\n",
       "      <td>0</td>\n",
       "      <td>27.0</td>\n",
       "      <td>0</td>\n",
       "      <td>0</td>\n",
       "      <td>13.0000</td>\n",
       "    </tr>\n",
       "    <tr>\n",
       "      <th>887</th>\n",
       "      <td>1</td>\n",
       "      <td>1</td>\n",
       "      <td>1</td>\n",
       "      <td>19.0</td>\n",
       "      <td>0</td>\n",
       "      <td>0</td>\n",
       "      <td>30.0000</td>\n",
       "    </tr>\n",
       "    <tr>\n",
       "      <th>889</th>\n",
       "      <td>1</td>\n",
       "      <td>1</td>\n",
       "      <td>0</td>\n",
       "      <td>26.0</td>\n",
       "      <td>0</td>\n",
       "      <td>0</td>\n",
       "      <td>30.0000</td>\n",
       "    </tr>\n",
       "    <tr>\n",
       "      <th>890</th>\n",
       "      <td>0</td>\n",
       "      <td>3</td>\n",
       "      <td>0</td>\n",
       "      <td>32.0</td>\n",
       "      <td>0</td>\n",
       "      <td>0</td>\n",
       "      <td>7.7500</td>\n",
       "    </tr>\n",
       "  </tbody>\n",
       "</table>\n",
       "<p>714 rows × 7 columns</p>\n",
       "</div>"
      ],
      "text/plain": [
       "     Survived  Pclass  Sex   Age  SibSp  Parch     Fare\n",
       "0           0       3    0  22.0      1      0   7.2500\n",
       "1           1       1    1  38.0      1      0  71.2833\n",
       "2           1       3    1  26.0      0      0   7.9250\n",
       "3           1       1    1  35.0      1      0  53.1000\n",
       "4           0       3    0  35.0      0      0   8.0500\n",
       "..        ...     ...  ...   ...    ...    ...      ...\n",
       "885         0       3    1  39.0      0      5  29.1250\n",
       "886         0       2    0  27.0      0      0  13.0000\n",
       "887         1       1    1  19.0      0      0  30.0000\n",
       "889         1       1    0  26.0      0      0  30.0000\n",
       "890         0       3    0  32.0      0      0   7.7500\n",
       "\n",
       "[714 rows x 7 columns]"
      ]
     },
     "execution_count": 7,
     "metadata": {},
     "output_type": "execute_result"
    }
   ],
   "source": [
    "df"
   ]
  },
  {
   "cell_type": "code",
   "execution_count": 8,
   "id": "7bc9d779-bd60-4412-8326-b54f9853a017",
   "metadata": {},
   "outputs": [],
   "source": [
    "# Separando features e target\n",
    "X = df.drop('Survived', axis=1).values\n",
    "y = df['Survived'].values"
   ]
  },
  {
   "cell_type": "code",
   "execution_count": 9,
   "id": "102441c3-441a-4637-94a9-4b0515f47d71",
   "metadata": {},
   "outputs": [],
   "source": [
    "X_train, X_test, y_train, y_test = train_test_split(X, y, test_size=0.2, random_state=42)"
   ]
  },
  {
   "cell_type": "code",
   "execution_count": 10,
   "id": "ce95dfb3-a298-47ab-94b4-3a0fe26acdb5",
   "metadata": {},
   "outputs": [],
   "source": [
    "scaler = StandardScaler()\n",
    "X_train = scaler.fit_transform(X_train)\n",
    "X_test = scaler.transform(X_test)"
   ]
  },
  {
   "cell_type": "code",
   "execution_count": 14,
   "id": "0d414ea2-b69b-45a9-b736-40297bafdeb6",
   "metadata": {},
   "outputs": [],
   "source": [
    "modelo = RegressaoLogistica()\n",
    "modelo.fit(X_train, y_train)"
   ]
  },
  {
   "cell_type": "code",
   "execution_count": 15,
   "id": "40c81167-3609-440d-b201-a5778d68dc4d",
   "metadata": {},
   "outputs": [],
   "source": [
    "previsoes = modelo.predict(X_test)"
   ]
  },
  {
   "cell_type": "code",
   "execution_count": 17,
   "id": "ce255ebc-6d9d-4f29-b400-c2a09bd276e1",
   "metadata": {},
   "outputs": [],
   "source": [
    "import numpy as np"
   ]
  },
  {
   "cell_type": "code",
   "execution_count": 18,
   "id": "7d964535-da51-43d6-8ced-5374740af61f",
   "metadata": {},
   "outputs": [
    {
     "name": "stdout",
     "output_type": "stream",
     "text": [
      "Acurácia do modelo no Titanic: 0.75\n"
     ]
    }
   ],
   "source": [
    "accuracy = np.mean(previsoes == y_test)\n",
    "print(f'Acurácia do modelo no Titanic: {accuracy:.2f}')"
   ]
  },
  {
   "cell_type": "code",
   "execution_count": null,
   "id": "8d8974f9-4b93-410b-82b7-c4a36a10f85c",
   "metadata": {},
   "outputs": [],
   "source": []
  },
  {
   "cell_type": "code",
   "execution_count": 19,
   "id": "4e28b38f-bbcc-4d33-9a54-458ae80275c3",
   "metadata": {},
   "outputs": [],
   "source": [
    "def calcular_ks(y_true, y_score):\n",
    "    df_ks = pd.DataFrame({'score': y_score, 'target': y_true})\n",
    "    df_ks = df_ks.sort_values(by='score', ascending=False)\n",
    "    df_ks['cum_event'] = df_ks['target'].cumsum() / df_ks['target'].sum()\n",
    "    df_ks['cum_non_event'] = (1 - df_ks['target']).cumsum() / (1 - df_ks['target']).sum()\n",
    "    df_ks['ks'] = abs(df_ks['cum_event'] - df_ks['cum_non_event'])\n",
    "    \n",
    "    ks_value = df_ks['ks'].max()\n",
    "    print(f'Valor KS: {ks_value:.4f}')\n",
    "    return df_ks"
   ]
  },
  {
   "cell_type": "code",
   "execution_count": 20,
   "id": "fa3c6f25-010b-400c-a979-e1d044609056",
   "metadata": {},
   "outputs": [],
   "source": [
    "prob_pred = modelo.predict_proba(X_test)"
   ]
  },
  {
   "cell_type": "code",
   "execution_count": 21,
   "id": "eac758ab-5018-4fda-a830-bd368c2ce84c",
   "metadata": {},
   "outputs": [
    {
     "name": "stdout",
     "output_type": "stream",
     "text": [
      "Valor KS: 0.5152\n"
     ]
    }
   ],
   "source": [
    "ks_table = calcular_ks(y_test, prob_pred)"
   ]
  },
  {
   "cell_type": "code",
   "execution_count": 24,
   "id": "02e46391-5a75-465b-91dc-d7d00040bb27",
   "metadata": {},
   "outputs": [],
   "source": [
    "    df_ks = pd.DataFrame({'score': prob_pred, 'target': y_test})\n",
    "    df_ks = df_ks.sort_values(by='score', ascending=False)\n",
    "    df_ks['cum_event'] = df_ks['target'].cumsum() / df_ks['target'].sum()\n",
    "    df_ks['cum_non_event'] = (1 - df_ks['target']).cumsum() / (1 - df_ks['target']).sum()\n",
    "    df_ks['ks'] = abs(df_ks['cum_event'] - df_ks['cum_non_event'])"
   ]
  },
  {
   "cell_type": "code",
   "execution_count": 25,
   "id": "1a845b44-17de-4f0a-a2ee-e2f609ecd7e4",
   "metadata": {},
   "outputs": [
    {
     "data": {
      "text/html": [
       "<div>\n",
       "<style scoped>\n",
       "    .dataframe tbody tr th:only-of-type {\n",
       "        vertical-align: middle;\n",
       "    }\n",
       "\n",
       "    .dataframe tbody tr th {\n",
       "        vertical-align: top;\n",
       "    }\n",
       "\n",
       "    .dataframe thead th {\n",
       "        text-align: right;\n",
       "    }\n",
       "</style>\n",
       "<table border=\"1\" class=\"dataframe\">\n",
       "  <thead>\n",
       "    <tr style=\"text-align: right;\">\n",
       "      <th></th>\n",
       "      <th>score</th>\n",
       "      <th>target</th>\n",
       "      <th>cum_event</th>\n",
       "      <th>cum_non_event</th>\n",
       "      <th>ks</th>\n",
       "    </tr>\n",
       "  </thead>\n",
       "  <tbody>\n",
       "    <tr>\n",
       "      <th>14</th>\n",
       "      <td>0.987519</td>\n",
       "      <td>1</td>\n",
       "      <td>0.017857</td>\n",
       "      <td>0.000000</td>\n",
       "      <td>0.017857</td>\n",
       "    </tr>\n",
       "    <tr>\n",
       "      <th>91</th>\n",
       "      <td>0.941130</td>\n",
       "      <td>1</td>\n",
       "      <td>0.035714</td>\n",
       "      <td>0.000000</td>\n",
       "      <td>0.035714</td>\n",
       "    </tr>\n",
       "    <tr>\n",
       "      <th>120</th>\n",
       "      <td>0.923324</td>\n",
       "      <td>1</td>\n",
       "      <td>0.053571</td>\n",
       "      <td>0.000000</td>\n",
       "      <td>0.053571</td>\n",
       "    </tr>\n",
       "    <tr>\n",
       "      <th>124</th>\n",
       "      <td>0.922293</td>\n",
       "      <td>0</td>\n",
       "      <td>0.053571</td>\n",
       "      <td>0.011494</td>\n",
       "      <td>0.042077</td>\n",
       "    </tr>\n",
       "    <tr>\n",
       "      <th>17</th>\n",
       "      <td>0.917048</td>\n",
       "      <td>1</td>\n",
       "      <td>0.071429</td>\n",
       "      <td>0.011494</td>\n",
       "      <td>0.059934</td>\n",
       "    </tr>\n",
       "    <tr>\n",
       "      <th>...</th>\n",
       "      <td>...</td>\n",
       "      <td>...</td>\n",
       "      <td>...</td>\n",
       "      <td>...</td>\n",
       "      <td>...</td>\n",
       "    </tr>\n",
       "    <tr>\n",
       "      <th>4</th>\n",
       "      <td>0.113148</td>\n",
       "      <td>0</td>\n",
       "      <td>0.982143</td>\n",
       "      <td>0.965517</td>\n",
       "      <td>0.016626</td>\n",
       "    </tr>\n",
       "    <tr>\n",
       "      <th>108</th>\n",
       "      <td>0.111408</td>\n",
       "      <td>1</td>\n",
       "      <td>1.000000</td>\n",
       "      <td>0.965517</td>\n",
       "      <td>0.034483</td>\n",
       "    </tr>\n",
       "    <tr>\n",
       "      <th>74</th>\n",
       "      <td>0.108430</td>\n",
       "      <td>0</td>\n",
       "      <td>1.000000</td>\n",
       "      <td>0.977011</td>\n",
       "      <td>0.022989</td>\n",
       "    </tr>\n",
       "    <tr>\n",
       "      <th>39</th>\n",
       "      <td>0.094932</td>\n",
       "      <td>0</td>\n",
       "      <td>1.000000</td>\n",
       "      <td>0.988506</td>\n",
       "      <td>0.011494</td>\n",
       "    </tr>\n",
       "    <tr>\n",
       "      <th>34</th>\n",
       "      <td>0.094345</td>\n",
       "      <td>0</td>\n",
       "      <td>1.000000</td>\n",
       "      <td>1.000000</td>\n",
       "      <td>0.000000</td>\n",
       "    </tr>\n",
       "  </tbody>\n",
       "</table>\n",
       "<p>143 rows × 5 columns</p>\n",
       "</div>"
      ],
      "text/plain": [
       "        score  target  cum_event  cum_non_event        ks\n",
       "14   0.987519       1   0.017857       0.000000  0.017857\n",
       "91   0.941130       1   0.035714       0.000000  0.035714\n",
       "120  0.923324       1   0.053571       0.000000  0.053571\n",
       "124  0.922293       0   0.053571       0.011494  0.042077\n",
       "17   0.917048       1   0.071429       0.011494  0.059934\n",
       "..        ...     ...        ...            ...       ...\n",
       "4    0.113148       0   0.982143       0.965517  0.016626\n",
       "108  0.111408       1   1.000000       0.965517  0.034483\n",
       "74   0.108430       0   1.000000       0.977011  0.022989\n",
       "39   0.094932       0   1.000000       0.988506  0.011494\n",
       "34   0.094345       0   1.000000       1.000000  0.000000\n",
       "\n",
       "[143 rows x 5 columns]"
      ]
     },
     "execution_count": 25,
     "metadata": {},
     "output_type": "execute_result"
    }
   ],
   "source": [
    "df_ks"
   ]
  },
  {
   "cell_type": "markdown",
   "id": "1e0dbb3a-e1d4-49d2-8b5a-fa0cecc7aa5a",
   "metadata": {
    "tags": []
   },
   "source": [
    "# Testando a Função Criada"
   ]
  },
  {
   "cell_type": "raw",
   "id": "4511d0b0-d8b2-4380-a22b-b5296e02009b",
   "metadata": {},
   "source": [
    "Para teste da função, uitilizaremos o Dataset do Titanic.\n",
    "O mesmo pode ser obtido no kaggle (https://www.kaggle.com/c/titanic/data).\n",
    "\n",
    "Dado que o objetivo desse notebook é testar a função Regressão Logística, que foi criada de forma manual para fins de estudos e evolução do conhecimento, não daremos tanta atenção às melhores práticas de EDA e modelagem, ou buscaremos o melhor resultado para o modelo. "
   ]
  },
  {
   "cell_type": "markdown",
   "id": "1c3ae6a5-8349-40a8-95bc-1f6bbf90c2d5",
   "metadata": {},
   "source": [
    "## Import das libs utilizadas e função criada fun_reglog.py'"
   ]
  },
  {
   "cell_type": "code",
   "execution_count": 1,
   "id": "d7f8b2bc-6bef-42df-97fa-b746a80fd2fa",
   "metadata": {},
   "outputs": [],
   "source": [
    "import pandas as pd\n",
    "import numpy as np\n",
    "from fun_reglog import RegressaoLogisticaManual as RegLogManual\n",
    "from sklearn.model_selection import train_test_split\n",
    "from sklearn.preprocessing import StandardScaler"
   ]
  },
  {
   "cell_type": "markdown",
   "id": "9cc38150-6dd0-4585-ac8c-ff4f8e0f63d7",
   "metadata": {
    "tags": []
   },
   "source": [
    "## Leitura e tratamenmto dos dados, separação entre treino e teste"
   ]
  },
  {
   "cell_type": "code",
   "execution_count": 2,
   "id": "f3a69c24-1862-4748-a770-9d720dd14afd",
   "metadata": {},
   "outputs": [],
   "source": [
    "# Carrega o dataset do Titanic\n",
    "df = pd.read_csv('Titanic-Dataset.csv')\n",
    "\n",
    "# Seleciona as colunas relevantes\n",
    "df = df[['Pclass', 'Sex', 'Age', 'Survived']].dropna()\n",
    "\n",
    "# Converte a coluna 'Sex' em numérica\n",
    "df['Sex'] = df['Sex'].map({'male': 0, 'female': 1})\n",
    "\n",
    "# Separa os dados em features (X) e target (y)\n",
    "X = df[['Pclass', 'Sex', 'Age']].values\n",
    "y = df['Survived'].values\n",
    "\n",
    "# Padroniza as features\n",
    "scaler = StandardScaler()\n",
    "X = scaler.fit_transform(X)\n",
    "\n",
    "# Divide os dados em treino e teste\n",
    "X_train, X_test, y_train, y_test = train_test_split(X, y, test_size=0.2, random_state=42)"
   ]
  },
  {
   "cell_type": "markdown",
   "id": "020f97fb-38f6-4db4-8a75-7c3c31a87019",
   "metadata": {},
   "source": [
    "## Utilizando a função para treinamento do modelo"
   ]
  },
  {
   "cell_type": "code",
   "execution_count": 9,
   "id": "a5c85224-be8c-4847-a79d-b1ec249fd1c1",
   "metadata": {},
   "outputs": [
    {
     "name": "stderr",
     "output_type": "stream",
     "text": [
      "2025-04-10 03:03:43,276 - INFO - Taxa de aprendizado definida como: 0.01\n",
      "2025-04-10 03:03:43,277 - INFO - Número de iterações definido como: 5\n",
      "2025-04-10 03:03:43,278 - INFO - Array de pesos inicializado como None\n",
      "2025-04-10 03:03:43,278 - INFO - Viés inicializado como None\n"
     ]
    }
   ],
   "source": [
    "# Define a variável para treinamento. Definindo o número de iterações pequeno para que não tenhamos logs excessivos.\n",
    "model = RegLogManual(0.01, 5)"
   ]
  },
  {
   "cell_type": "code",
   "execution_count": 12,
   "id": "ea8e9378-6981-4bf8-9c4f-32cdad37a5ff",
   "metadata": {},
   "outputs": [
    {
     "name": "stderr",
     "output_type": "stream",
     "text": [
      "2025-04-10 03:04:06,714 - INFO - Iniciando o treinamento do modelo\n",
      "2025-04-10 03:04:06,715 - INFO - Pesos inicializados com valores aleatórios: [0.50977174 0.52806652 0.02743545]\n",
      "2025-04-10 03:04:06,716 - INFO - Viés inicializado com valor aleatório: 0.374018918399737\n",
      "2025-04-10 03:04:06,717 - INFO - Iniciando iteração 1\n",
      "2025-04-10 03:04:06,718 - INFO - Saída linear calculada: [ 1.53669082  0.4307186   0.43827849  0.44394841 -0.17973586]\n",
      "2025-04-10 03:04:06,720 - INFO - Calculando a função sigmoide\n",
      "2025-04-10 03:04:06,721 - INFO - Probabilidades calculadas: [0.82298315 0.60604525 0.60784875 0.60919945 0.45518661]\n",
      "2025-04-10 03:04:06,723 - INFO - Gradiente dos pesos: [ 0.25861701 -0.17953356  0.01634339], Gradiente do viés: 0.17142242800293478\n",
      "2025-04-10 03:04:06,724 - INFO - Pesos atualizados: [0.50718557 0.52986185 0.02727202]\n",
      "2025-04-10 03:04:06,725 - INFO - Viés atualizado: 0.3723046941197076\n",
      "2025-04-10 03:04:06,726 - INFO - Iniciando iteração 2\n",
      "2025-04-10 03:04:06,727 - INFO - Saída linear calculada: [ 1.53497058  0.42532667  0.43284153  0.43847767 -0.18202917]\n",
      "2025-04-10 03:04:06,729 - INFO - Calculando a função sigmoide\n",
      "2025-04-10 03:04:06,730 - INFO - Probabilidades calculadas: [0.82273241 0.60475717 0.60655199 0.60789623 0.45461795]\n",
      "2025-04-10 03:04:06,731 - INFO - Gradiente dos pesos: [ 0.25798009 -0.17898162  0.01646074], Gradiente do viés: 0.1710337861489877\n",
      "2025-04-10 03:04:06,732 - INFO - Pesos atualizados: [0.50460577 0.53165167 0.02710741]\n",
      "2025-04-10 03:04:06,733 - INFO - Viés atualizado: 0.37059435625821774\n",
      "2025-04-10 03:04:06,734 - INFO - Iniciando iteração 3\n",
      "2025-04-10 03:04:06,735 - INFO - Saída linear calculada: [ 1.53325266  0.41994892  0.42741841  0.43302054 -0.18431582]\n",
      "2025-04-10 03:04:06,735 - INFO - Calculando a função sigmoide\n",
      "2025-04-10 03:04:06,736 - INFO - Probabilidades calculadas: [0.82248172 0.60347103 0.60525704 0.60659471 0.45405105]\n",
      "2025-04-10 03:04:06,737 - INFO - Gradiente dos pesos: [ 0.25734457 -0.17843107  0.01657749], Gradiente do viés: 0.17064540702403452\n",
      "2025-04-10 03:04:06,739 - INFO - Pesos atualizados: [0.50203232 0.53343598 0.02694163]\n",
      "2025-04-10 03:04:06,740 - INFO - Viés atualizado: 0.3688879021879774\n",
      "2025-04-10 03:04:06,741 - INFO - Iniciando iteração 4\n",
      "2025-04-10 03:04:06,742 - INFO - Saída linear calculada: [ 1.53153705  0.41458532  0.42200913  0.427577   -0.18659583]\n",
      "2025-04-10 03:04:06,742 - INFO - Calculando a função sigmoide\n",
      "2025-04-10 03:04:06,743 - INFO - Probabilidades calculadas: [0.82223109 0.60218684 0.60396392 0.60529493 0.45348593]\n",
      "2025-04-10 03:04:06,744 - INFO - Gradiente dos pesos: [ 0.25671045 -0.17788189  0.01669366], Gradiente do viés: 0.17025729954554333\n",
      "2025-04-10 03:04:06,745 - INFO - Pesos atualizados: [0.49946522 0.5352148  0.0267747 ]\n",
      "2025-04-10 03:04:06,747 - INFO - Viés atualizado: 0.36718532919252195\n",
      "2025-04-10 03:04:06,748 - INFO - Iniciando iteração 5\n",
      "2025-04-10 03:04:06,748 - INFO - Saída linear calculada: [ 1.52982377  0.40923584  0.41661366  0.42214702 -0.1888692 ]\n",
      "2025-04-10 03:04:06,749 - INFO - Calculando a função sigmoide\n",
      "2025-04-10 03:04:06,750 - INFO - Probabilidades calculadas: [0.82198053 0.60090463 0.60267264 0.6039969  0.45292256]\n",
      "2025-04-10 03:04:06,750 - INFO - Gradiente dos pesos: [ 0.25607773 -0.17733411  0.01680923], Gradiente do viés: 0.1698694725449541\n",
      "2025-04-10 03:04:06,751 - INFO - Pesos atualizados: [0.49690444 0.53698814 0.0266066 ]\n",
      "2025-04-10 03:04:06,752 - INFO - Viés atualizado: 0.3654866344670724\n"
     ]
    }
   ],
   "source": [
    "# Treina o modelo\n",
    "model.fit(X_train, y_train)"
   ]
  },
  {
   "cell_type": "code",
   "execution_count": 13,
   "id": "d79eefdf-6c0b-46d7-99a8-d9b751366cbc",
   "metadata": {},
   "outputs": [
    {
     "name": "stderr",
     "output_type": "stream",
     "text": [
      "2025-04-10 03:04:36,616 - INFO - Iniciando previsões\n",
      "2025-04-10 03:04:36,618 - INFO - Saída linear calculada: [-0.15997707 -0.2314592   0.93124352  0.32887561  0.43505934]\n",
      "2025-04-10 03:04:36,618 - INFO - Calculando a função sigmoide\n",
      "2025-04-10 03:04:36,619 - INFO - Probabilidades calculadas: [0.46009081 0.44239216 0.7173275  0.58148577 0.60708114]\n",
      "2025-04-10 03:04:36,620 - INFO - Previsões binárias geradas: [0, 0, 1, 1, 1]\n"
     ]
    }
   ],
   "source": [
    "# Utiliza o modelo treinado para prever\n",
    "y_pred = model.predict(X_test)"
   ]
  },
  {
   "cell_type": "code",
   "execution_count": 14,
   "id": "1857ae79-be6b-42cc-abd3-347c079ae452",
   "metadata": {},
   "outputs": [
    {
     "data": {
      "text/plain": [
       "array([0, 0, 1, 1, 1, 0, 1, 1, 1, 1, 1, 1, 0, 1, 1, 0, 1, 1, 0, 1, 1, 1,\n",
       "       1, 0, 1, 1, 1, 1, 1, 1, 1, 1, 0, 1, 1, 1, 0, 0, 0, 1, 1, 1, 1, 0,\n",
       "       0, 1, 1, 1, 0, 1, 0, 1, 0, 1, 1, 1, 0, 1, 1, 0, 1, 1, 1, 1, 0, 0,\n",
       "       1, 1, 1, 0, 1, 1, 1, 1, 1, 1, 0, 1, 1, 0, 1, 0, 1, 1, 1, 1, 1, 1,\n",
       "       1, 0, 0, 1, 1, 1, 1, 1, 1, 0, 0, 1, 1, 1, 1, 1, 1, 0, 1, 0, 1, 1,\n",
       "       1, 1, 1, 0, 1, 1, 1, 1, 1, 1, 1, 1, 1, 1, 1, 1, 1, 1, 1, 1, 1, 1,\n",
       "       1, 1, 1, 1, 1, 0, 1, 1, 1, 1, 1])"
      ]
     },
     "execution_count": 14,
     "metadata": {},
     "output_type": "execute_result"
    }
   ],
   "source": [
    "# Previsão final\n",
    "y_pred"
   ]
  },
  {
   "cell_type": "code",
   "execution_count": 49,
   "id": "7b4d0f4f-fe6a-4245-8322-8bd0499e467c",
   "metadata": {},
   "outputs": [
    {
     "name": "stdout",
     "output_type": "stream",
     "text": [
      "Acurácia do modelo scikit-learn: 0.7412587412587412\n"
     ]
    }
   ],
   "source": [
    "import pandas as pd\n",
    "import numpy as np\n",
    "from sklearn.model_selection import train_test_split\n",
    "from sklearn.preprocessing import StandardScaler\n",
    "from sklearn.linear_model import LogisticRegression\n",
    "from sklearn.metrics import accuracy_score\n",
    "\n",
    "# Carrega o dataset do Titanic\n",
    "df = pd.read_csv('Titanic-Dataset.csv')\n",
    "\n",
    "# Seleciona as colunas relevantes\n",
    "df = df[['Pclass', 'Sex', 'Age', 'Survived']].dropna()\n",
    "\n",
    "# Converte a coluna 'Sex' em numérica\n",
    "df['Sex'] = df['Sex'].map({'male': 0, 'female': 1})\n",
    "\n",
    "# Separa os dados em features (X) e target (y)\n",
    "X = df[['Pclass', 'Sex', 'Age']].values\n",
    "y = df['Survived'].values\n",
    "\n",
    "# Padroniza as features\n",
    "scaler = StandardScaler()\n",
    "X = scaler.fit_transform(X)\n",
    "\n",
    "# Divide os dados em treino e teste\n",
    "X_train, X_test, y_train, y_test = train_test_split(X, y, test_size=0.2, random_state=42)\n",
    "\n",
    "# Cria e treina o modelo de regressão logística do scikit-learn\n",
    "model_sklearn = LogisticRegression()\n",
    "model_sklearn.fit(X_train, y_train)\n",
    "\n",
    "# Faz as previsões nos dados de teste\n",
    "y_pred_sklearn = model_sklearn.predict(X_test)\n",
    "\n",
    "# Calcula a acurácia do modelo do scikit-learn\n",
    "accuracy_sklearn = accuracy_score(y_test, y_pred_sklearn)\n",
    "print(f'Acurácia do modelo scikit-learn: {accuracy_sklearn}')"
   ]
  },
  {
   "cell_type": "code",
   "execution_count": 50,
   "id": "dd2d7e02-d04b-448b-9591-498b40b4f061",
   "metadata": {},
   "outputs": [],
   "source": [
    "z_pred_sklearn = model_sklearn.predict_proba(X_test)"
   ]
  },
  {
   "cell_type": "code",
   "execution_count": 52,
   "id": "f9bdf502-acb7-4def-bd46-3d55820edfbc",
   "metadata": {},
   "outputs": [
    {
     "data": {
      "text/plain": [
       "array([0, 0, 1, 1, 0, 0, 1, 1, 1, 1, 1, 1, 1, 0, 1, 0, 0, 1, 0, 1, 1, 1,\n",
       "       1, 0, 0, 0, 0, 0, 1, 0, 1, 1, 0, 0, 0, 0, 0, 0, 0, 0, 0, 0, 1, 0,\n",
       "       0, 1, 1, 1, 0, 1, 0, 1, 1, 0, 0, 1, 1, 0, 0, 0, 1, 0, 1, 0, 0, 0,\n",
       "       0, 1, 0, 0, 0, 1, 0, 0, 0, 0, 0, 0, 1, 1, 1, 1, 0, 0, 0, 1, 1, 0,\n",
       "       0, 0, 0, 1, 1, 0, 1, 1, 1, 1, 0, 0, 1, 1, 0, 1, 1, 0, 0, 0, 0, 1,\n",
       "       0, 0, 0, 0, 0, 1, 0, 1, 0, 0, 1, 0, 0, 0, 1, 0, 0, 1, 0, 1, 0, 0,\n",
       "       0, 1, 0, 0, 0, 0, 0, 0, 0, 1, 1])"
      ]
     },
     "execution_count": 52,
     "metadata": {},
     "output_type": "execute_result"
    }
   ],
   "source": [
    "y_pred_sklearn"
   ]
  },
  {
   "cell_type": "code",
   "execution_count": 61,
   "id": "f2a23aff-251e-44f6-a9cd-0dde5f81121f",
   "metadata": {},
   "outputs": [
    {
     "data": {
      "text/plain": [
       "array([0.04797883, 0.95202117])"
      ]
     },
     "execution_count": 61,
     "metadata": {},
     "output_type": "execute_result"
    }
   ],
   "source": [
    "z_pred_sklearn[3]"
   ]
  },
  {
   "cell_type": "code",
   "execution_count": 62,
   "id": "b0d85a73-be7d-4e43-95ae-0a936b26e4a1",
   "metadata": {},
   "outputs": [],
   "source": [
    "probabilidades_classe_1 = z_pred_sklearn[:, 1]"
   ]
  },
  {
   "cell_type": "code",
   "execution_count": 63,
   "id": "382dd7fc-d73d-4f89-8f32-f14cf979e0e3",
   "metadata": {},
   "outputs": [
    {
     "data": {
      "text/plain": [
       "array([0.15690727, 0.49216184, 0.818759  , 0.95202117, 0.04778634,\n",
       "       0.43957127, 0.51759431, 0.61069322, 0.57002505, 0.62093068,\n",
       "       0.96387558, 0.79574007, 0.51307195, 0.05838692, 0.92569895,\n",
       "       0.29368713, 0.1027518 , 0.96532021, 0.25984374, 0.84794137,\n",
       "       0.68775965, 0.65009679, 0.74759605, 0.47079879, 0.10875206,\n",
       "       0.13101602, 0.13590863, 0.09340172, 0.70122338, 0.05838692,\n",
       "       0.64063451, 0.74759605, 0.4602721 , 0.06576905, 0.06075693,\n",
       "       0.48587329, 0.20702589, 0.26787411, 0.22846793, 0.03453873,\n",
       "       0.17457703, 0.11722934, 0.92273597, 0.10073044, 0.30233618,\n",
       "       0.818759  , 0.78523104, 0.64063451, 0.41860931, 0.87786885,\n",
       "       0.44978072, 0.84806561, 0.55515892, 0.0864787 , 0.09704654,\n",
       "       0.580128  , 0.54468742, 0.21421998, 0.09340172, 0.07394514,\n",
       "       0.82481372, 0.09704654, 0.69656881, 0.13101602, 0.32997334,\n",
       "       0.34872445, 0.19362874, 0.95574176, 0.07696355, 0.49192093,\n",
       "       0.13101602, 0.79900225, 0.13590863, 0.11722934, 0.04407999,\n",
       "       0.11722934, 0.32997334, 0.1262738 , 0.54393138, 0.71063864,\n",
       "       0.73129704, 0.51307195, 0.44379863, 0.12167919, 0.09704654,\n",
       "       0.65031602, 0.74759605, 0.05283617, 0.12167919, 0.31154107,\n",
       "       0.36818015, 0.91648319, 0.65009679, 0.08319421, 0.78523104,\n",
       "       0.59063043, 0.95202117, 0.53417626, 0.2361852 , 0.45426567,\n",
       "       0.82495295, 0.87336628, 0.08002353, 0.7924387 , 0.92862102,\n",
       "       0.20702589, 0.11722934, 0.4602721 , 0.04589756, 0.73934341,\n",
       "       0.0864787 , 0.11292129, 0.17457703, 0.30233618, 0.13101602,\n",
       "       0.54917416, 0.07401117, 0.70563653, 0.08319421, 0.04778634,\n",
       "       0.96387558, 0.16271713, 0.09704654, 0.11722934, 0.95005123,\n",
       "       0.09340172, 0.11292129, 0.88243305, 0.08319421, 0.89488492,\n",
       "       0.09704654, 0.0864787 , 0.09340172, 0.78523104, 0.22142799,\n",
       "       0.10875206, 0.07116331, 0.44978072, 0.16856394, 0.22880792,\n",
       "       0.06576905, 0.86370827, 0.96081073])"
      ]
     },
     "execution_count": 63,
     "metadata": {},
     "output_type": "execute_result"
    }
   ],
   "source": [
    "probabilidades_classe_1"
   ]
  },
  {
   "cell_type": "code",
   "execution_count": 64,
   "id": "8a41ac00-219f-41c6-ac61-f3783dc627ee",
   "metadata": {},
   "outputs": [
    {
     "name": "stdout",
     "output_type": "stream",
     "text": [
      "     Probabilidade_Classe_1\n",
      "0                  0.156907\n",
      "1                  0.492162\n",
      "2                  0.818759\n",
      "3                  0.952021\n",
      "4                  0.047786\n",
      "..                      ...\n",
      "138                0.168564\n",
      "139                0.228808\n",
      "140                0.065769\n",
      "141                0.863708\n",
      "142                0.960811\n",
      "\n",
      "[143 rows x 1 columns]\n"
     ]
    }
   ],
   "source": [
    "# Cria um DataFrame\n",
    "df_probabilidades_classe_1 = pd.DataFrame(probabilidades_classe_1, columns=['Probabilidade_Classe_1'])\n",
    "\n",
    "# Exibe o DataFrame\n",
    "print(df_probabilidades_classe_1)"
   ]
  },
  {
   "cell_type": "code",
   "execution_count": 65,
   "id": "686a805c-cbe2-4df5-814f-fceab5e2af53",
   "metadata": {},
   "outputs": [
    {
     "data": {
      "text/html": [
       "<div>\n",
       "<style scoped>\n",
       "    .dataframe tbody tr th:only-of-type {\n",
       "        vertical-align: middle;\n",
       "    }\n",
       "\n",
       "    .dataframe tbody tr th {\n",
       "        vertical-align: top;\n",
       "    }\n",
       "\n",
       "    .dataframe thead th {\n",
       "        text-align: right;\n",
       "    }\n",
       "</style>\n",
       "<table border=\"1\" class=\"dataframe\">\n",
       "  <thead>\n",
       "    <tr style=\"text-align: right;\">\n",
       "      <th></th>\n",
       "      <th>Probabilidade_Classe_1</th>\n",
       "    </tr>\n",
       "  </thead>\n",
       "  <tbody>\n",
       "    <tr>\n",
       "      <th>0</th>\n",
       "      <td>0.156907</td>\n",
       "    </tr>\n",
       "    <tr>\n",
       "      <th>1</th>\n",
       "      <td>0.492162</td>\n",
       "    </tr>\n",
       "    <tr>\n",
       "      <th>2</th>\n",
       "      <td>0.818759</td>\n",
       "    </tr>\n",
       "    <tr>\n",
       "      <th>3</th>\n",
       "      <td>0.952021</td>\n",
       "    </tr>\n",
       "    <tr>\n",
       "      <th>4</th>\n",
       "      <td>0.047786</td>\n",
       "    </tr>\n",
       "    <tr>\n",
       "      <th>...</th>\n",
       "      <td>...</td>\n",
       "    </tr>\n",
       "    <tr>\n",
       "      <th>138</th>\n",
       "      <td>0.168564</td>\n",
       "    </tr>\n",
       "    <tr>\n",
       "      <th>139</th>\n",
       "      <td>0.228808</td>\n",
       "    </tr>\n",
       "    <tr>\n",
       "      <th>140</th>\n",
       "      <td>0.065769</td>\n",
       "    </tr>\n",
       "    <tr>\n",
       "      <th>141</th>\n",
       "      <td>0.863708</td>\n",
       "    </tr>\n",
       "    <tr>\n",
       "      <th>142</th>\n",
       "      <td>0.960811</td>\n",
       "    </tr>\n",
       "  </tbody>\n",
       "</table>\n",
       "<p>143 rows × 1 columns</p>\n",
       "</div>"
      ],
      "text/plain": [
       "     Probabilidade_Classe_1\n",
       "0                  0.156907\n",
       "1                  0.492162\n",
       "2                  0.818759\n",
       "3                  0.952021\n",
       "4                  0.047786\n",
       "..                      ...\n",
       "138                0.168564\n",
       "139                0.228808\n",
       "140                0.065769\n",
       "141                0.863708\n",
       "142                0.960811\n",
       "\n",
       "[143 rows x 1 columns]"
      ]
     },
     "execution_count": 65,
     "metadata": {},
     "output_type": "execute_result"
    }
   ],
   "source": [
    "df_probabilidades_classe_1"
   ]
  }
 ],
 "metadata": {
  "kernelspec": {
   "display_name": "default:Python",
   "language": "python",
   "name": "conda-env-default-py"
  },
  "language_info": {
   "codemirror_mode": {
    "name": "ipython",
    "version": 3
   },
   "file_extension": ".py",
   "mimetype": "text/x-python",
   "name": "python",
   "nbconvert_exporter": "python",
   "pygments_lexer": "ipython3",
   "version": "3.9.13"
  }
 },
 "nbformat": 4,
 "nbformat_minor": 5
}
